{
 "cells": [
  {
   "cell_type": "code",
   "execution_count": 4,
   "metadata": {
    "collapsed": true
   },
   "outputs": [],
   "source": [
    "import numpy as np\n",
    "import matplotlib.pyplot as plt\n",
    "import random\n",
    "import pandas as pd\n",
    "\n",
    "%matplotlib inline\n",
    "%matplotlib notebook"
   ]
  },
  {
   "cell_type": "markdown",
   "metadata": {},
   "source": [
    "## 1. Train-test split method"
   ]
  },
  {
   "cell_type": "markdown",
   "metadata": {},
   "source": [
    "### 1.1 Fisher-Yates shuffle algorithm"
   ]
  },
  {
   "cell_type": "code",
   "execution_count": 10,
   "metadata": {
    "collapsed": true
   },
   "outputs": [],
   "source": [
    "def shuffle(in_list):\n",
    "    n=len(in_list)\n",
    "    \n",
    "    for i in range(n-1,0,-1):\n",
    "        j=np.random.randint(0,i)\n",
    "        in_list[j],in_list[i]=in_list[i],in_list[j]\n",
    "        \n",
    "    return in_list"
   ]
  },
  {
   "cell_type": "code",
   "execution_count": 11,
   "metadata": {
    "collapsed": false
   },
   "outputs": [
    {
     "name": "stdout",
     "output_type": "stream",
     "text": [
      "[1, 4, 6, 9, 5, 8, 0, 3, 7, 2]\n",
      "[3, 2, 0, 6, 4, 9, 5, 8, 1, 7]\n",
      "[5, 9, 7, 2, 3, 0, 6, 1, 4, 8]\n",
      "[6, 3, 1, 8, 0, 4, 7, 9, 2, 5]\n",
      "[9, 7, 0, 2, 4, 5, 1, 8, 3, 6]\n",
      "[1, 2, 3, 6, 8, 7, 4, 5, 9, 0]\n",
      "[2, 0, 4, 7, 5, 9, 8, 6, 1, 3]\n",
      "[8, 2, 0, 9, 4, 1, 3, 5, 6, 7]\n",
      "[4, 0, 9, 8, 1, 7, 5, 2, 3, 6]\n",
      "[5, 4, 8, 1, 0, 6, 7, 9, 2, 3]\n"
     ]
    }
   ],
   "source": [
    "a=list(range(10))\n",
    "\n",
    "for k in range(10):\n",
    "    print (shuffle(a))"
   ]
  },
  {
   "cell_type": "markdown",
   "metadata": {},
   "source": [
    "### 1.2 Sattolo's algorithm"
   ]
  },
  {
   "cell_type": "code",
   "execution_count": 12,
   "metadata": {
    "collapsed": false
   },
   "outputs": [],
   "source": [
    "def sattolo(in_list):\n",
    "    n = len(in_list)\n",
    "    for i in range(n-1,1,-1):\n",
    "        j = np.random.randint(0,i)  \n",
    "        in_list[j], in_list[i] = in_list[i], in_list[j]\n",
    "    return in_list"
   ]
  },
  {
   "cell_type": "code",
   "execution_count": 13,
   "metadata": {
    "collapsed": false
   },
   "outputs": [
    {
     "name": "stdout",
     "output_type": "stream",
     "text": [
      "[8, 3, 0, 1, 2, 7, 9, 4, 6, 5]\n",
      "[5, 9, 3, 6, 7, 4, 2, 1, 0, 8]\n",
      "[4, 9, 6, 7, 0, 8, 1, 5, 2, 3]\n",
      "[1, 7, 8, 5, 3, 2, 6, 9, 0, 4]\n",
      "[8, 0, 1, 7, 5, 9, 2, 4, 6, 3]\n",
      "[1, 6, 8, 2, 4, 3, 9, 7, 5, 0]\n",
      "[0, 6, 2, 4, 9, 5, 3, 1, 7, 8]\n",
      "[4, 7, 8, 0, 3, 2, 6, 5, 1, 9]\n",
      "[3, 2, 1, 4, 8, 9, 0, 6, 5, 7]\n",
      "[1, 0, 8, 5, 4, 7, 9, 3, 6, 2]\n"
     ]
    }
   ],
   "source": [
    "a=list(range(10))\n",
    "\n",
    "for k in range(10):\n",
    "    print (sattolo(a))"
   ]
  },
  {
   "cell_type": "markdown",
   "metadata": {
    "collapsed": false
   },
   "source": [
    "## Train-test split method"
   ]
  },
  {
   "cell_type": "code",
   "execution_count": 45,
   "metadata": {
    "collapsed": false
   },
   "outputs": [],
   "source": [
    "## In this module, I will build the train-test split method based on the random shuffle\n",
    "\n",
    "def train_test_split(input_array,ratio=0.7):\n",
    "    \"\"\"\n",
    "    The input array must have the format that the last column is the \n",
    "    target value.\n",
    "    \n",
    "    For example:\n",
    "    \n",
    "    input_array is (m,n), then the dataset has n-1 features and 1 target column\n",
    "    \n",
    "    The ratio is the percentage of Train and Test array size. The default value is 0.7\n",
    "    \"\"\"\n",
    "    \n",
    "    ## The number of observations, which is also the number of rows of input array\n",
    "    n_row = input_array.shape[0]\n",
    "    \n",
    "    ## Flag list which is used to generate shuffled points\n",
    "    flag = shuffle(list(range(n_row)))\n",
    "    \n",
    "    ## flag list for train and test list\n",
    "    split_number = int(ratio*len(flag))\n",
    "    train_flag = flag[:split_number]\n",
    "    test_flag = flag[split_number:]\n",
    "    \n",
    "    ## build the train and test set\n",
    "    train_x = np.array([input_array[candidate,:-1] for candidate in train_flag])\n",
    "    train_y = np.array([input_array[candidate,-1] for candidate in train_flag])\n",
    "    test_x = np.array([input_array[candidate,:-1] for candidate in test_flag])\n",
    "    test_y = np.array([input_array[candidate,-1] for candidate in test_flag])\n",
    "    \n",
    "    return train_x,train_y,test_x,test_y\n",
    "    "
   ]
  },
  {
   "cell_type": "code",
   "execution_count": null,
   "metadata": {
    "collapsed": false
   },
   "outputs": [],
   "source": []
  },
  {
   "cell_type": "code",
   "execution_count": 53,
   "metadata": {
    "collapsed": false
   },
   "outputs": [
    {
     "name": "stdout",
     "output_type": "stream",
     "text": [
      "The train observations:  [[ 2  3  4  5]\n",
      " [ 7  8  9 10]]\n",
      "The train target:  [ 6 11]\n",
      "The test observations:  [ 6 11]\n",
      "The test target:  [5]\n"
     ]
    }
   ],
   "source": [
    "## Test\n",
    "\n",
    "a=np.array([[1,2,3,4,5],[2,3,4,5,6],[7,8,9,10,11]])\n",
    "\n",
    "\n",
    "train_x,train_y,test_x,test_y = train_test_split(a)\n",
    "\n",
    "print (\"The train observations: \",train_x)\n",
    "print (\"The train target: \", train_y)\n",
    "print (\"The test observations: \", train_y)\n",
    "print (\"The test target: \", test_y)"
   ]
  },
  {
   "cell_type": "code",
   "execution_count": null,
   "metadata": {
    "collapsed": false
   },
   "outputs": [],
   "source": []
  },
  {
   "cell_type": "markdown",
   "metadata": {
    "collapsed": false
   },
   "source": [
    "## 2. Accuracy of Model"
   ]
  },
  {
   "cell_type": "markdown",
   "metadata": {
    "collapsed": false
   },
   "source": [
    "### 2.1 Accuracy of classfication problem"
   ]
  },
  {
   "cell_type": "code",
   "execution_count": 6,
   "metadata": {
    "collapsed": false
   },
   "outputs": [],
   "source": [
    "def model_accuracy(test_y, result, verbose=True):\n",
    "    \"\"\"\n",
    "    This function calculate the model accuracy of the classfication problem. It is the most simple way to anlysis the ability\n",
    "    of model prediction.\n",
    "    \n",
    "    Input: 1. test_y, this is the already known data of target. size = (num_of_observation,)\n",
    "           2. result, this is the predicted value after training by any classification algorithm. size = (num_of_observation,)\n",
    "           \n",
    "    Output: the accuracy score in percentage form.\n",
    "            \n",
    "            if verbose is true, then print out the final result.\n",
    "            \n",
    "    \"\"\"\n",
    "    \n",
    "    ## test: check if the two input array has the same dimension.\n",
    "    assert test_y.shape == result.shape\n",
    "    \n",
    "    the_same=0.0\n",
    "    for test,predict in zip(test_y,result):\n",
    "        if (test == predict):\n",
    "            the_same += 1\n",
    "    \n",
    "    accuracy_score = the_same/len(test_y)\n",
    "    \n",
    "    if (verbose == True):\n",
    "        print (\"Your model accuracy is: {0:.2f}%, keep doing!\".format(accuracy_score*100))\n",
    "    \n",
    "    return accuracy_score"
   ]
  },
  {
   "cell_type": "code",
   "execution_count": 7,
   "metadata": {
    "collapsed": false
   },
   "outputs": [
    {
     "name": "stdout",
     "output_type": "stream",
     "text": [
      "Your model accuracy is: 71.43%, keep doing!\n"
     ]
    },
    {
     "data": {
      "text/plain": [
       "0.7142857142857143"
      ]
     },
     "execution_count": 7,
     "metadata": {},
     "output_type": "execute_result"
    }
   ],
   "source": [
    "## Test of the above function\n",
    "\n",
    "y_test = np.array([1,1,1,0,0,0,1])\n",
    "result = np.array([1,1,0,0,0,0,0])\n",
    "\n",
    "model_accuracy(y_test,result)"
   ]
  },
  {
   "cell_type": "code",
   "execution_count": null,
   "metadata": {
    "collapsed": true
   },
   "outputs": [],
   "source": []
  }
 ],
 "metadata": {
  "kernelspec": {
   "display_name": "Python 3",
   "language": "python",
   "name": "python3"
  },
  "language_info": {
   "codemirror_mode": {
    "name": "ipython",
    "version": 3
   },
   "file_extension": ".py",
   "mimetype": "text/x-python",
   "name": "python",
   "nbconvert_exporter": "python",
   "pygments_lexer": "ipython3",
   "version": "3.6.0"
  }
 },
 "nbformat": 4,
 "nbformat_minor": 2
}
