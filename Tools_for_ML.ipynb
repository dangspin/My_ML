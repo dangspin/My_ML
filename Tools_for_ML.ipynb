{
 "cells": [
  {
   "cell_type": "code",
   "execution_count": 10,
   "metadata": {
    "collapsed": true
   },
   "outputs": [],
   "source": [
    "import numpy as np\n",
    "import matplotlib.pyplot as plt\n",
    "import random\n",
    "\n",
    "%matplotlib inline\n",
    "%matplotlib notebook"
   ]
  },
  {
   "cell_type": "markdown",
   "metadata": {},
   "source": [
    "## 1. Cross validation method"
   ]
  },
  {
   "cell_type": "markdown",
   "metadata": {},
   "source": [
    "### 1.1 Fisher-Yates shuffle algorithm"
   ]
  },
  {
   "cell_type": "code",
   "execution_count": 30,
   "metadata": {
    "collapsed": true
   },
   "outputs": [],
   "source": [
    "def shuffle(in_list):\n",
    "    n=len(in_list)\n",
    "    \n",
    "    for i in range(n-1,0,-1):\n",
    "        j=np.random.randint(0,i)\n",
    "        in_list[j],in_list[i]=in_list[i],in_list[j]\n",
    "        \n",
    "    return in_list"
   ]
  },
  {
   "cell_type": "code",
   "execution_count": 38,
   "metadata": {
    "collapsed": false
   },
   "outputs": [
    {
     "name": "stdout",
     "output_type": "stream",
     "text": [
      "[6, 4, 8, 9, 2, 3, 5, 0, 7, 1]\n",
      "[4, 7, 9, 6, 3, 1, 0, 8, 2, 5]\n",
      "[7, 6, 4, 8, 0, 9, 5, 2, 3, 1]\n",
      "[8, 5, 1, 4, 3, 0, 2, 9, 7, 6]\n",
      "[4, 1, 2, 6, 7, 9, 3, 5, 8, 0]\n",
      "[5, 8, 0, 3, 9, 6, 4, 2, 7, 1]\n",
      "[2, 1, 4, 7, 0, 9, 3, 6, 8, 5]\n",
      "[9, 7, 1, 8, 4, 5, 6, 2, 3, 0]\n",
      "[5, 0, 8, 4, 6, 7, 9, 3, 1, 2]\n",
      "[7, 9, 0, 1, 3, 8, 2, 5, 6, 4]\n"
     ]
    }
   ],
   "source": [
    "a=list(range(10))\n",
    "\n",
    "for k in range(10):\n",
    "    print (shuffle(a))"
   ]
  },
  {
   "cell_type": "markdown",
   "metadata": {},
   "source": [
    "### 1.2 Sattolo's algorithm"
   ]
  },
  {
   "cell_type": "code",
   "execution_count": 49,
   "metadata": {
    "collapsed": false
   },
   "outputs": [],
   "source": [
    "def sattolo(in_list):\n",
    "    n = len(in_list)\n",
    "    for i in range(n-1,1,-1):\n",
    "        j = random.randrange(i)  \n",
    "        in_list[j], in_list[i] = in_list[i], in_list[j]\n",
    "    return in_list"
   ]
  },
  {
   "cell_type": "code",
   "execution_count": 50,
   "metadata": {
    "collapsed": false
   },
   "outputs": [
    {
     "name": "stdout",
     "output_type": "stream",
     "text": [
      "[8, 3, 6, 9, 5, 1, 7, 4, 0, 2]\n",
      "[1, 7, 4, 6, 8, 0, 9, 2, 5, 3]\n",
      "[8, 3, 2, 7, 4, 6, 1, 5, 9, 0]\n",
      "[1, 6, 8, 4, 9, 5, 7, 0, 2, 3]\n",
      "[5, 3, 1, 9, 0, 4, 6, 8, 7, 2]\n",
      "[6, 7, 8, 4, 1, 2, 9, 3, 0, 5]\n",
      "[2, 9, 1, 0, 5, 6, 8, 4, 7, 3]\n",
      "[7, 3, 6, 1, 8, 2, 4, 9, 0, 5]\n",
      "[6, 2, 8, 0, 9, 5, 7, 1, 4, 3]\n",
      "[0, 7, 9, 8, 6, 3, 5, 4, 2, 1]\n"
     ]
    }
   ],
   "source": [
    "a=list(range(10))\n",
    "\n",
    "for k in range(10):\n",
    "    print (sattolo(a))"
   ]
  },
  {
   "cell_type": "code",
   "execution_count": null,
   "metadata": {
    "collapsed": true
   },
   "outputs": [],
   "source": []
  }
 ],
 "metadata": {
  "kernelspec": {
   "display_name": "Python 3",
   "language": "python",
   "name": "python3"
  },
  "language_info": {
   "codemirror_mode": {
    "name": "ipython",
    "version": 3
   },
   "file_extension": ".py",
   "mimetype": "text/x-python",
   "name": "python",
   "nbconvert_exporter": "python",
   "pygments_lexer": "ipython3",
   "version": "3.6.0"
  }
 },
 "nbformat": 4,
 "nbformat_minor": 2
}
