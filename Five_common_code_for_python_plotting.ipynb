{
 "cells": [
  {
   "cell_type": "markdown",
   "metadata": {},
   "source": [
    "## In this notebook, I will write down five trunks of python code for plotting. These codes are for future use. I get those code from https://towardsdatascience.com/5-quick-and-easy-data-visualizations-in-python-with-code-a2284bae952f"
   ]
  },
  {
   "cell_type": "markdown",
   "metadata": {},
   "source": [
    "### 1. Scatter plot"
   ]
  },
  {
   "cell_type": "markdown",
   "metadata": {},
   "source": [
    "Scatter plot is really useful for plotting the relation between two variables. It is a powerful and straightforward way to reveal the correlation and regression relation. "
   ]
  },
  {
   "cell_type": "code",
   "execution_count": 37,
   "metadata": {
    "collapsed": true
   },
   "outputs": [],
   "source": [
    "import matplotlib.pyplot as plt\n",
    "import numpy as np\n",
    " \n",
    "def scatterplot(x_data, y_data, x_label=\"\", y_label=\"\", title=\"\",size = 10, color = \"r\", yscale_log=False):\n",
    " \n",
    "    # Create the plot object\n",
    "    fig, ax = plt.subplots()\n",
    "\n",
    "    # Plot the data, set the size (s), color and transparency (alpha)\n",
    "    # of the points\n",
    "    ax.scatter(x_data, y_data, s = size, c = color, alpha = 0.45)\n",
    "\n",
    "    if yscale_log == True:\n",
    "        ax.set_yscale('log')\n",
    "\n",
    "    # Label the axes and provide a title\n",
    "    ax.set_title(title)\n",
    "    ax.set_xlabel(x_label)\n",
    "    ax.set_ylabel(y_label)"
   ]
  },
  {
   "cell_type": "code",
   "execution_count": 44,
   "metadata": {
    "collapsed": true
   },
   "outputs": [],
   "source": [
    "data = np.array([[1,2,3,4],[6,2,9,1]])\n",
    "color = ['r','r','k','k']\n",
    "size = [50,50,100,100]"
   ]
  },
  {
   "cell_type": "code",
   "execution_count": 45,
   "metadata": {},
   "outputs": [
    {
     "data": {
      "image/png": "[encoded data removed]",
      "text/plain": [
       "<matplotlib.figure.Figure at 0x1067f67b8>"
      ]
     },
     "metadata": {},
     "output_type": "display_data"
    }
   ],
   "source": [
    "scatterplot(data[0,:],data[1,:],\"x\",\"y\",\"x vs y\", size, color)\n",
    "\n",
    "plt.show()"
   ]
  },
  {
   "cell_type": "markdown",
   "metadata": {},
   "source": [
    "### 2. Regular plot"
   ]
  },
  {
   "cell_type": "code",
   "execution_count": 46,
   "metadata": {
    "collapsed": true
   },
   "outputs": [],
   "source": [
    "def lineplot(x_data, y_data, x_label=\"\", y_label=\"\", title=\"\"):\n",
    "    # Create the plot object\n",
    "    fig, ax = plt.subplots()\n",
    " \n",
    "    # Plot the best fit line, set the linewidth (lw), color and\n",
    "    # transparency (alpha) of the line\n",
    "    ax.plot(x_data, y_data, lw = 2, color = '#539caf', alpha = 1)\n",
    " \n",
    "    # Label the axes and provide a title\n",
    "    ax.set_title(title)\n",
    "    ax.set_xlabel(x_label)\n",
    "    ax.set_ylabel(y_label)"
   ]
  },
  {
   "cell_type": "markdown",
   "metadata": {},
   "source": [
    "### 3. Histogram"
   ]
  },
  {
   "cell_type": "markdown",
   "metadata": {},
   "source": [
    "The histogram is super useful for the distribution analysis. It shows how data are distributed. It is specially useful when we are thinking about the statistical analysis"
   ]
  },
  {
   "cell_type": "code",
   "execution_count": 47,
   "metadata": {
    "collapsed": true
   },
   "outputs": [],
   "source": [
    "def histogram(data, n_bins, cumulative=False, x_label = \"\", y_label = \"\", title = \"\"):\n",
    "    _, ax = plt.subplots()\n",
    "    ax.hist(data, n_bins = n_bins, cumulative = cumulative, color = '#539caf')\n",
    "    ax.set_ylabel(y_label)\n",
    "    ax.set_xlabel(x_label)\n",
    "    ax.set_title(title)"
   ]
  },
  {
   "cell_type": "code",
   "execution_count": null,
   "metadata": {
    "collapsed": true
   },
   "outputs": [],
   "source": []
  },
  {
   "cell_type": "code",
   "execution_count": null,
   "metadata": {
    "collapsed": true
   },
   "outputs": [],
   "source": []
  },
  {
   "cell_type": "code",
   "execution_count": null,
   "metadata": {
    "collapsed": true
   },
   "outputs": [],
   "source": []
  },
  {
   "cell_type": "code",
   "execution_count": null,
   "metadata": {
    "collapsed": true
   },
   "outputs": [],
   "source": []
  }
 ],
 "metadata": {
  "kernelspec": {
   "display_name": "Python 3",
   "language": "python",
   "name": "python3"
  },
  "language_info": {
   "codemirror_mode": {
    "name": "ipython",
    "version": 3
   },
   "file_extension": ".py",
   "mimetype": "text/x-python",
   "name": "python",
   "nbconvert_exporter": "python",
   "pygments_lexer": "ipython3",
   "version": "3.6.3"
  }
 },
 "nbformat": 4,
 "nbformat_minor": 2
}
