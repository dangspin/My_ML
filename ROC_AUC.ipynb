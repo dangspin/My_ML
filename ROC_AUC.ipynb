{
 "cells": [
  {
   "cell_type": "markdown",
   "metadata": {},
   "source": [
    "## ROC_AUC implementation"
   ]
  },
  {
   "cell_type": "markdown",
   "metadata": {},
   "source": [
    "In this jupyter lab, I will implement the ROC_AUC calculation. We first implement the ROC curve and then calculate the AUC, which is the area under the curve"
   ]
  },
  {
   "cell_type": "code",
   "execution_count": 1,
   "metadata": {},
   "outputs": [],
   "source": [
    "import matplotlib.pyplot as plt\n",
    "import numpy as np"
   ]
  },
  {
   "cell_type": "code",
   "execution_count": 2,
   "metadata": {},
   "outputs": [],
   "source": [
    "## fake data\n",
    "\n",
    "## this is the prediction results, each number refers to a probability number\n",
    "y_pred = np.array([0.9, 0.8, 0.7, 0.6, 0.55, 0.54, 0.53, 0.52, 0.51, 0.505, \n",
    "                  0.4, 0.39, 0.38, 0.37, 0.36, 0.35, 0.34, 0.33, 0.30, 0.1])\n",
    "\n",
    "## This is the real target value\n",
    "y_real = np.array([1,1,0, 1, 1, 1, 0, 0, 1, 0, 1,0, 1, 0, 0, 0, 1 , 0, 1, 0])"
   ]
  },
  {
   "cell_type": "code",
   "execution_count": 3,
   "metadata": {},
   "outputs": [],
   "source": [
    "## make sure they have the same length:\n",
    "\n",
    "assert len(y_pred) == len(y_real)"
   ]
  },
  {
   "cell_type": "code",
   "execution_count": 4,
   "metadata": {},
   "outputs": [
    {
     "data": {
      "image/png": "[encoded data removed]",
      "text/plain": [
       "<matplotlib.figure.Figure at 0x1155045f8>"
      ]
     },
     "metadata": {},
     "output_type": "display_data"
    }
   ],
   "source": [
    "## find the maximum and minimum value of y_pred, remember these numbers are the probabilities of something.\n",
    "## This is a binary classification problem\n",
    "\n",
    "pmax = np.max(y_pred)\n",
    "pmin = np.min(y_pred)\n",
    "\n",
    "## number of threshold we want to check\n",
    "th = 100\n",
    "ths = np.linspace(pmin, pmax, th)\n",
    "\n",
    "## count all the real positive and real negative\n",
    "RT = len(y_real[y_real == 1])  ## RT for real true value\n",
    "RN = len(y_real[y_real == 0])  ## RN for real negative value\n",
    "\n",
    "## check the number\n",
    "assert (RT+RN) == len(y_real)\n",
    "\n",
    "## Keep in mind that ROC_Y = True positive rate = Recall = Sensitivity\n",
    "## ROC_X = False positive rate = fall out\n",
    "\n",
    "ROC_Y = np.zeros(th)\n",
    "ROC_X = np.zeros(th)\n",
    "\n",
    "for i, th in enumerate(ths):\n",
    "    \n",
    "    tp = 0; fp = 0\n",
    "    for j in range(len(y_real)):\n",
    "        if (y_pred[j] > th and y_real[j] == 1):\n",
    "            tp += 1\n",
    "        elif (y_pred[j] > th and y_real[j]== 0):\n",
    "            fp += 1\n",
    "    \n",
    "    ROC_Y[i] = tp*1.0/RT\n",
    "    ROC_X[i] = fp*1.0/RN\n",
    "    \n",
    "\n",
    "fig, ax = plt.subplots()\n",
    "ax.plot(ROC_X, ROC_Y, 'b.-')\n",
    "ax.set_xlim(0,1)\n",
    "ax.set_ylim(0,1)\n",
    "ax.set_xlabel('FPR')\n",
    "ax.set_ylabel('TPR')\n",
    "\n",
    "plt.show()"
   ]
  },
  {
   "cell_type": "code",
   "execution_count": 7,
   "metadata": {},
   "outputs": [
    {
     "name": "stdout",
     "output_type": "stream",
     "text": [
      "The area under the ROC curve is 0.54\n"
     ]
    }
   ],
   "source": [
    "## Calculate the AUC of the curve, here we simply use the Riemann integration\n",
    "\n",
    "auc = np.sum(ROC_Y)/len(ROC_X)\n",
    "    \n",
    "print (\"The area under the ROC curve is %.2f\"%auc)"
   ]
  },
  {
   "cell_type": "code",
   "execution_count": null,
   "metadata": {},
   "outputs": [],
   "source": []
  }
 ],
 "metadata": {
  "kernelspec": {
   "display_name": "Python 3",
   "language": "python",
   "name": "python3"
  },
  "language_info": {
   "codemirror_mode": {
    "name": "ipython",
    "version": 3
   },
   "file_extension": ".py",
   "mimetype": "text/x-python",
   "name": "python",
   "nbconvert_exporter": "python",
   "pygments_lexer": "ipython3",
   "version": "3.6.3"
  }
 },
 "nbformat": 4,
 "nbformat_minor": 2
}
