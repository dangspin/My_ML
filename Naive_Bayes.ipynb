{
 "cells": [
  {
   "cell_type": "markdown",
   "metadata": {},
   "source": [
    "# Naive Bayes Classifier"
   ]
  },
  {
   "cell_type": "markdown",
   "metadata": {},
   "source": [
    "## 1. Naive Bayes algorithm"
   ]
  },
  {
   "cell_type": "markdown",
   "metadata": {},
   "source": [
    "This ipython notebook is used to implement naive bayes algorithms, which is easy to understand and for some problem it has a fair good accuracy. "
   ]
  },
  {
   "cell_type": "markdown",
   "metadata": {},
   "source": [
    "**The Question we are going to answer **:\n",
    "\n",
    "This is the simple example I get from wikipedia, which is used to understand how Naive Bayes algorithm works in this case:\n",
    "\n",
    "### Problem: classify whether a given person is a male or a female based on the measured features. The features include height, weight, and foot size."
   ]
  },
  {
   "cell_type": "code",
   "execution_count": 2,
   "metadata": {
    "collapsed": true
   },
   "outputs": [],
   "source": [
    "## Import the packages\n",
    "\n",
    "import numpy as np\n",
    "import matplotlib as plt\n",
    "import sklearn as sk\n",
    "\n",
    "%matplotlib notebook"
   ]
  },
  {
   "cell_type": "code",
   "execution_count": 4,
   "metadata": {
    "collapsed": true
   },
   "outputs": [],
   "source": [
    "## dataset columns: [height(feet), weight(lbs), foot size(inches), gender(male:1, female:0)]\n",
    "\n",
    "\n",
    "dataset = np.array([[6,180,12,1],[5.92,190,11,1],[5.58,170,12,1],[5.92,165,10,1],[5,100,6,0],[5.5,150,8,0],[5.42,130,7,0],[5.75,150,9,0]],dtype=float)"
   ]
  },
  {
   "cell_type": "code",
   "execution_count": 5,
   "metadata": {
    "collapsed": false
   },
   "outputs": [
    {
     "data": {
      "text/plain": [
       "array([[   6.  ,  180.  ,   12.  ,    1.  ],\n",
       "       [   5.92,  190.  ,   11.  ,    1.  ],\n",
       "       [   5.58,  170.  ,   12.  ,    1.  ],\n",
       "       [   5.92,  165.  ,   10.  ,    1.  ],\n",
       "       [   5.  ,  100.  ,    6.  ,    0.  ],\n",
       "       [   5.5 ,  150.  ,    8.  ,    0.  ],\n",
       "       [   5.42,  130.  ,    7.  ,    0.  ],\n",
       "       [   5.75,  150.  ,    9.  ,    0.  ]])"
      ]
     },
     "execution_count": 5,
     "metadata": {},
     "output_type": "execute_result"
    }
   ],
   "source": [
    "dataset"
   ]
  },
  {
   "cell_type": "code",
   "execution_count": 22,
   "metadata": {
    "collapsed": false
   },
   "outputs": [],
   "source": [
    "train_x = dataset[:,:-1]\n",
    "\n",
    "target = dataset[:,-1].reshape((1,dataset.shape[0]))"
   ]
  },
  {
   "cell_type": "code",
   "execution_count": null,
   "metadata": {
    "collapsed": false
   },
   "outputs": [],
   "source": []
  },
  {
   "cell_type": "code",
   "execution_count": 26,
   "metadata": {
    "collapsed": false
   },
   "outputs": [
    {
     "data": {
      "text/plain": [
       "array([ 0.,  1.])"
      ]
     },
     "execution_count": 26,
     "metadata": {},
     "output_type": "execute_result"
    }
   ],
   "source": [
    "np.unique(target[0])"
   ]
  },
  {
   "cell_type": "markdown",
   "metadata": {},
   "source": [
    "## Implement our Bayes algorithm"
   ]
  },
  {
   "cell_type": "code",
   "execution_count": 18,
   "metadata": {
    "collapsed": true
   },
   "outputs": [],
   "source": [
    "## define Gaussian distribution function\n",
    "\n",
    "def Gauss(x, mean, var):\n",
    "    \"\"\"\n",
    "    This is the function to calculate the probability distribution under the assumption that the data behaves as normla distribution\n",
    "    \"\"\"\n",
    "    coef = 1/np.sqrt(2*np.pi*var)\n",
    "    expo = np.exp((x-mean)**2/(2*var))\n",
    "    return coef*expo\n",
    "\n",
    "\n",
    "def Mean_array(train_X,target):\n",
    "    \"\"\"\n",
    "    This function calculate the mean value for each feature (colume of dataset),\n",
    "    this function is actually build the training model\n",
    "    \n",
    "    input: training array with size m*n\n",
    "           m: the number of observations\n",
    "           n: the number of features\n",
    "    \n",
    "    return: numpy array of mean values. with size 1*n\n",
    "            n: the number of features\n",
    "    \"\"\"\n",
    "    \n",
    "    mean_array = np.array([[train_X[:,i].mean() for i in range(train_X.shape[1])]])\n",
    "    \n",
    "    assert mean_array.shape==(1,train_X.shape[1])\n",
    "    \n",
    "    return mean_array\n",
    "\n",
    "\n",
    "def Var_array(train_X,target):\n",
    "    \"\"\"\n",
    "    This function calculate the variance value for each feature (colume of dataset),\n",
    "    this function is actually build the training model\n",
    "    \n",
    "    input: training array with size m*n\n",
    "           m: the number of observations\n",
    "           n: the number of features\n",
    "    \n",
    "    return: numpy array of variance values. with size 1*n\n",
    "            n: the number of features\n",
    "    \"\"\"\n",
    "    \n",
    "    var_array = np.array([[train_X[:,i].var() for i in range(train_X.shape[1])]])\n",
    "    \n",
    "    assert var_array.shape==(1,train_X.shape[1])\n",
    "    \n",
    "    return var_array\n",
    "\n",
    "\n"
   ]
  },
  {
   "cell_type": "code",
   "execution_count": 19,
   "metadata": {
    "collapsed": false
   },
   "outputs": [
    {
     "data": {
      "text/plain": [
       "array([[  9.74484375e-02,   7.33984375e+02,   4.48437500e+00,\n",
       "          2.50000000e-01]])"
      ]
     },
     "execution_count": 19,
     "metadata": {},
     "output_type": "execute_result"
    }
   ],
   "source": [
    "Var_array(dataset)"
   ]
  },
  {
   "cell_type": "code",
   "execution_count": null,
   "metadata": {
    "collapsed": true
   },
   "outputs": [],
   "source": []
  },
  {
   "cell_type": "code",
   "execution_count": null,
   "metadata": {
    "collapsed": true
   },
   "outputs": [],
   "source": []
  },
  {
   "cell_type": "code",
   "execution_count": null,
   "metadata": {
    "collapsed": true
   },
   "outputs": [],
   "source": []
  },
  {
   "cell_type": "code",
   "execution_count": null,
   "metadata": {
    "collapsed": true
   },
   "outputs": [],
   "source": []
  },
  {
   "cell_type": "code",
   "execution_count": null,
   "metadata": {
    "collapsed": false
   },
   "outputs": [],
   "source": []
  },
  {
   "cell_type": "code",
   "execution_count": null,
   "metadata": {
    "collapsed": false
   },
   "outputs": [],
   "source": []
  },
  {
   "cell_type": "code",
   "execution_count": null,
   "metadata": {
    "collapsed": false
   },
   "outputs": [],
   "source": []
  },
  {
   "cell_type": "code",
   "execution_count": null,
   "metadata": {
    "collapsed": false
   },
   "outputs": [],
   "source": []
  },
  {
   "cell_type": "code",
   "execution_count": null,
   "metadata": {
    "collapsed": true
   },
   "outputs": [],
   "source": []
  },
  {
   "cell_type": "code",
   "execution_count": null,
   "metadata": {
    "collapsed": true
   },
   "outputs": [],
   "source": []
  }
 ],
 "metadata": {
  "kernelspec": {
   "display_name": "Python 3",
   "language": "python",
   "name": "python3"
  },
  "language_info": {
   "codemirror_mode": {
    "name": "ipython",
    "version": 3
   },
   "file_extension": ".py",
   "mimetype": "text/x-python",
   "name": "python",
   "nbconvert_exporter": "python",
   "pygments_lexer": "ipython3",
   "version": "3.6.0"
  }
 },
 "nbformat": 4,
 "nbformat_minor": 2
}
