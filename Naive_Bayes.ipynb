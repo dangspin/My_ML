{
 "cells": [
  {
   "cell_type": "markdown",
   "metadata": {},
   "source": [
    "# Naive Bayes Classifier"
   ]
  },
  {
   "cell_type": "markdown",
   "metadata": {},
   "source": [
    "## 1. Naive Bayes algorithm"
   ]
  },
  {
   "cell_type": "markdown",
   "metadata": {},
   "source": [
    "This ipython notebook is used to implement naive bayes algorithms, which is easy to understand and for some problem it has a fair good accuracy. "
   ]
  },
  {
   "cell_type": "markdown",
   "metadata": {},
   "source": [
    "**The Question we are going to answer **:\n",
    "\n",
    "This is the simple example I get from wikipedia, which is used to understand how Naive Bayes algorithm works in this case:\n",
    "\n",
    "### Problem: classify whether a given person is a male or a female based on the measured features. The features include height, weight, and foot size."
   ]
  },
  {
   "cell_type": "code",
   "execution_count": 102,
   "metadata": {
    "collapsed": true
   },
   "outputs": [],
   "source": [
    "## Import the packages\n",
    "\n",
    "import numpy as np\n",
    "import matplotlib as plt\n",
    "import sklearn as sk\n",
    "import sys\n",
    "\n",
    "%matplotlib notebook"
   ]
  },
  {
   "cell_type": "code",
   "execution_count": 5,
   "metadata": {
    "collapsed": true
   },
   "outputs": [],
   "source": [
    "## dataset columns: [height(feet), weight(lbs), foot size(inches), gender(male:1, female:0)]\n",
    "\n",
    "\n",
    "dataset = np.array([[6,180,12,1],[5.92,190,11,1],[5.58,170,12,1],[5.92,165,10,1],[5,100,6,0],[5.5,150,8,0],[5.42,130,7,0],[5.75,150,9,0]],dtype=float)"
   ]
  },
  {
   "cell_type": "code",
   "execution_count": 6,
   "metadata": {
    "collapsed": false
   },
   "outputs": [
    {
     "data": {
      "text/plain": [
       "array([[   6.  ,  180.  ,   12.  ,    1.  ],\n",
       "       [   5.92,  190.  ,   11.  ,    1.  ],\n",
       "       [   5.58,  170.  ,   12.  ,    1.  ],\n",
       "       [   5.92,  165.  ,   10.  ,    1.  ],\n",
       "       [   5.  ,  100.  ,    6.  ,    0.  ],\n",
       "       [   5.5 ,  150.  ,    8.  ,    0.  ],\n",
       "       [   5.42,  130.  ,    7.  ,    0.  ],\n",
       "       [   5.75,  150.  ,    9.  ,    0.  ]])"
      ]
     },
     "execution_count": 6,
     "metadata": {},
     "output_type": "execute_result"
    }
   ],
   "source": [
    "dataset"
   ]
  },
  {
   "cell_type": "code",
   "execution_count": 7,
   "metadata": {
    "collapsed": false
   },
   "outputs": [],
   "source": [
    "train_x = dataset[:,:-1]\n",
    "\n",
    "target = dataset[:,-1].reshape((1,dataset.shape[0]))"
   ]
  },
  {
   "cell_type": "code",
   "execution_count": null,
   "metadata": {
    "collapsed": false
   },
   "outputs": [],
   "source": []
  },
  {
   "cell_type": "code",
   "execution_count": 8,
   "metadata": {
    "collapsed": false
   },
   "outputs": [
    {
     "data": {
      "text/plain": [
       "array([[ 1.,  1.,  1.,  1.,  0.,  0.,  0.,  0.]])"
      ]
     },
     "execution_count": 8,
     "metadata": {},
     "output_type": "execute_result"
    }
   ],
   "source": [
    "target"
   ]
  },
  {
   "cell_type": "markdown",
   "metadata": {},
   "source": [
    "## Implement our Bayes algorithm"
   ]
  },
  {
   "cell_type": "code",
   "execution_count": 184,
   "metadata": {
    "collapsed": true
   },
   "outputs": [],
   "source": [
    "## define Gaussian distribution function\n",
    "\n",
    "def Gauss(x, mean, var):\n",
    "    \"\"\"\n",
    "    This is the function to calculate the probability distribution under the assumption that the data behaves as normla distribution\n",
    "    \"\"\"\n",
    "    coef = 1/np.sqrt(2*np.pi*var)\n",
    "    expo = np.exp(-(x-mean)**2/(2*var))\n",
    "    return coef*expo\n",
    "\n",
    "\n",
    "def Mean_array(train_X,target):\n",
    "    \"\"\"\n",
    "    This function calculate the mean value for each feature (colume of dataset),\n",
    "    this function is actually build the training model\n",
    "    \n",
    "    input: 1.training array with size m*n\n",
    "           m: the number of observations\n",
    "           n: the number of features\n",
    "           \n",
    "           2.target array with size 1*m\n",
    "           m: the number of observations\n",
    "    \n",
    "    return: numpy array of mean values. with size k*n\n",
    "            n: the number of features\n",
    "            k: the number of class\n",
    "    \"\"\"\n",
    "    \n",
    "    k = len(np.unique(target))\n",
    "    \n",
    "    mean_array = np.array([[train_X[(target==k)[0]][:,i].mean() for i in range(train_X.shape[1])] for k in np.unique(target)])\n",
    "    \n",
    "    assert mean_array.shape==(k,train_X.shape[1])\n",
    "    \n",
    "    return mean_array\n",
    "\n",
    "\n",
    "def Var_array(train_X,target):\n",
    "    \"\"\"\n",
    "    This function calculate the variance value for each feature (colume of dataset),\n",
    "    this function is actually build the training model\n",
    "    \n",
    "    input: 1.training array with size m*n\n",
    "           m: the number of observations\n",
    "           n: the number of features\n",
    "           \n",
    "           2.target array with size 1*m\n",
    "           m: the number of observations\n",
    "    \n",
    "    return: numpy array of variance values. with size k*n\n",
    "            n: the number of features\n",
    "            k: the number of class\n",
    "    \"\"\"\n",
    "    \n",
    "    k = len(np.unique(target))\n",
    "    \n",
    "    var_array = np.array([[train_X[(target==k)[0]][:,i].var(ddof=1) for i in range(train_X.shape[1])] for k in np.unique(target)])\n",
    "    \n",
    "    assert var_array.shape==(k,train_X.shape[1])\n",
    "    \n",
    "    return var_array\n",
    "\n",
    "\n",
    "def find_class(A):\n",
    "    \"\"\"\n",
    "    This is a help function that return the index \n",
    "    \"\"\"\n",
    "    vmax = -sys.maxsize; midx = -1\n",
    "    for i in range(len(A)):\n",
    "        if (A[i]>vmax):\n",
    "            vmax=A[i]\n",
    "            midx=i\n",
    "    return midx\n",
    "\n",
    "\n",
    "def Cal_once(in_array,mean_matrix,var_matrix,target,prior_p):\n",
    "    \"\"\"\n",
    "    This is the help function to calculate only one test case.\n",
    "    \n",
    "    input: 1. in_array with size (num_of_features,)\n",
    "           2. mean_matrix with size (num_of_class, num_of_features)\n",
    "           3. var_matrix with size (num_of_class, num_of_features)\n",
    "           4. target with size (1, num_of_classes)\n",
    "           5. prior_p with size (1, num_of_classes)\n",
    "           \n",
    "    return: result array with size (num_of_classes, )\n",
    "    \"\"\"\n",
    "    \n",
    "    num_of_features = in_array.shape[0]\n",
    "    num_of_class = len(np.unique(target))\n",
    "    \n",
    "    \n",
    "    likelyhood = np.array([[Gauss(in_array[i],mean_matrix[c,i],var_matrix[c,i]) for i in range(num_of_features)] for c in range(num_of_class)]).prod(axis=1)\n",
    "    result = np.array([ prior_p[0][i]*likelyhood[i] for i in range(num_of_class)])\n",
    "    \n",
    "    return np.log(result)\n",
    "\n",
    "\n",
    "def Predict(train_X,target,test_x,prior_p):\n",
    "    \"\"\"\n",
    "    This function calculate the prediction value of the test dataset,\n",
    "    this function is used to make a prediction\n",
    "    \n",
    "    input: 1.training array with size m*n\n",
    "           m: the number of observations\n",
    "           n: the number of features\n",
    "           \n",
    "           2. target array with size 1*m\n",
    "           m: the number of observations\n",
    "           \n",
    "           3. test set with size num_of_test*n\n",
    "           num_of_test: the number of test\n",
    "           n: the number of features\n",
    "           \n",
    "           4. prior_p with size 1*num_of_class, this is the prior probability of Bayes theorem.\n",
    "           num_of_class: the number of classes\n",
    "           \n",
    "    return: numpy array of test values, which contains the class label. with size (num_of_test,)\n",
    "            num_of_test: the number of test\n",
    "            Y_prediction\n",
    "    \"\"\"\n",
    "    \n",
    "    num_of_observations = train_X.shape[0]\n",
    "    num_of_features = train_X.shape[1]\n",
    "    num_of_class = len(np.unique(target))\n",
    "    \n",
    "    mean_matrix = Mean_array(train_X,target)\n",
    "    var_matrix = Var_array(train_X,target)\n",
    "    \n",
    "    Y_prediction=np.zeros((test_x.shape[0],),dtype=int)\n",
    "    \n",
    "    result = np.array([Cal_once(test_x[i,:],mean_matrix,var_matrix,target,prior_p) for i in range(num_of_class)])\n",
    "    \n",
    "    for i in range(result.shape[1]):\n",
    "        Y_prediction[i]=find_class(result[i,:])\n",
    "\n",
    "    \n",
    "    return Y_prediction\n",
    "\n",
    "\n",
    "def model_accuracy(test_y, result):\n",
    "    \n",
    "    assert test_y.shape == result.shape\n",
    "    \n",
    "    correct = len(test_y[test_y == result])\n",
    "    \n",
    "    return correct*1.0/result.shape[1]"
   ]
  },
  {
   "cell_type": "code",
   "execution_count": 114,
   "metadata": {
    "collapsed": false
   },
   "outputs": [
    {
     "name": "stdout",
     "output_type": "stream",
     "text": [
      "[ -7.5280407  -18.89918894]\n",
      "0\n",
      "The possible gender of the test data is: female\n",
      "The 0th test item is female, The 1th test item is male\n"
     ]
    }
   ],
   "source": [
    "## Test1:\n",
    "\n",
    "gender = {1:'male',0:'female'}\n",
    "\n",
    "mean_matrix = Mean_array(train_x,target)\n",
    "var_matrix  = Var_array(train_x, target)\n",
    "\n",
    "prior_p = np.array([[0.5,0.5]])\n",
    "\n",
    "test = np.array([6,130,8])\n",
    "\n",
    "gen = find_class(Cal_once(test,mean_matrix,var_matrix,target,prior_p))\n",
    "\n",
    "print (Cal_once(test,mean_matrix,var_matrix,target,prior_p))\n",
    "print (find_class(Cal_once(test,mean_matrix,var_matrix,target,prior_p)))\n",
    "print ('The possible gender of the test data is: '+gender[gen])\n",
    "\n",
    "\n",
    "## Test2:\n",
    "\n",
    "gender = {1:'male',0:\"female\"}\n",
    "\n",
    "mean_matrix = Mean_array(train_x,target)\n",
    "var_matrix = Var_array(train_x,target)\n",
    "\n",
    "prior_p = np.array([[0.5,0.5]])\n",
    "\n",
    "test = np.array([[6,130,8],[6,180,10]])\n",
    "\n",
    "gen = Predict(train_x,target,test,prior_p)\n",
    "print (', '.join(['The '+str(i)+'th test item is '+gender[i] for i in gen]))"
   ]
  },
  {
   "cell_type": "markdown",
   "metadata": {
    "collapsed": true
   },
   "source": [
    "## 2. Real life problem:2 label class problem\n",
    "\n",
    "This is the example that we discussed many times before. The male and female height and weight problem. We use it as a special example for only binary class problem"
   ]
  },
  {
   "cell_type": "code",
   "execution_count": 123,
   "metadata": {
    "collapsed": false
   },
   "outputs": [
    {
     "data": {
      "text/html": [
       "<div>\n",
       "<table border=\"1\" class=\"dataframe\">\n",
       "  <thead>\n",
       "    <tr style=\"text-align: right;\">\n",
       "      <th></th>\n",
       "      <th>Gender</th>\n",
       "      <th>Height</th>\n",
       "      <th>Weight</th>\n",
       "    </tr>\n",
       "  </thead>\n",
       "  <tbody>\n",
       "    <tr>\n",
       "      <th>0</th>\n",
       "      <td>Male</td>\n",
       "      <td>73.847017</td>\n",
       "      <td>241.893563</td>\n",
       "    </tr>\n",
       "    <tr>\n",
       "      <th>1</th>\n",
       "      <td>Male</td>\n",
       "      <td>68.781904</td>\n",
       "      <td>162.310473</td>\n",
       "    </tr>\n",
       "    <tr>\n",
       "      <th>2</th>\n",
       "      <td>Male</td>\n",
       "      <td>74.110105</td>\n",
       "      <td>212.740856</td>\n",
       "    </tr>\n",
       "    <tr>\n",
       "      <th>3</th>\n",
       "      <td>Male</td>\n",
       "      <td>71.730978</td>\n",
       "      <td>220.042470</td>\n",
       "    </tr>\n",
       "    <tr>\n",
       "      <th>4</th>\n",
       "      <td>Male</td>\n",
       "      <td>69.881796</td>\n",
       "      <td>206.349801</td>\n",
       "    </tr>\n",
       "  </tbody>\n",
       "</table>\n",
       "</div>"
      ],
      "text/plain": [
       "  Gender     Height      Weight\n",
       "0   Male  73.847017  241.893563\n",
       "1   Male  68.781904  162.310473\n",
       "2   Male  74.110105  212.740856\n",
       "3   Male  71.730978  220.042470\n",
       "4   Male  69.881796  206.349801"
      ]
     },
     "execution_count": 123,
     "metadata": {},
     "output_type": "execute_result"
    }
   ],
   "source": [
    "import pandas as pd\n",
    "dflog = pd.read_csv(\"01_heights_weights_genders.csv\")\n",
    "dflog.head()"
   ]
  },
  {
   "cell_type": "code",
   "execution_count": 124,
   "metadata": {
    "collapsed": false
   },
   "outputs": [],
   "source": [
    "dflog['gender']=dflog['Gender'].apply(lambda x:1 if x=='Male' else 0)"
   ]
  },
  {
   "cell_type": "code",
   "execution_count": 125,
   "metadata": {
    "collapsed": false
   },
   "outputs": [
    {
     "data": {
      "text/html": [
       "<div>\n",
       "<table border=\"1\" class=\"dataframe\">\n",
       "  <thead>\n",
       "    <tr style=\"text-align: right;\">\n",
       "      <th></th>\n",
       "      <th>Gender</th>\n",
       "      <th>Height</th>\n",
       "      <th>Weight</th>\n",
       "      <th>gender</th>\n",
       "    </tr>\n",
       "  </thead>\n",
       "  <tbody>\n",
       "    <tr>\n",
       "      <th>0</th>\n",
       "      <td>Male</td>\n",
       "      <td>73.847017</td>\n",
       "      <td>241.893563</td>\n",
       "      <td>1</td>\n",
       "    </tr>\n",
       "    <tr>\n",
       "      <th>1</th>\n",
       "      <td>Male</td>\n",
       "      <td>68.781904</td>\n",
       "      <td>162.310473</td>\n",
       "      <td>1</td>\n",
       "    </tr>\n",
       "    <tr>\n",
       "      <th>2</th>\n",
       "      <td>Male</td>\n",
       "      <td>74.110105</td>\n",
       "      <td>212.740856</td>\n",
       "      <td>1</td>\n",
       "    </tr>\n",
       "    <tr>\n",
       "      <th>3</th>\n",
       "      <td>Male</td>\n",
       "      <td>71.730978</td>\n",
       "      <td>220.042470</td>\n",
       "      <td>1</td>\n",
       "    </tr>\n",
       "    <tr>\n",
       "      <th>4</th>\n",
       "      <td>Male</td>\n",
       "      <td>69.881796</td>\n",
       "      <td>206.349801</td>\n",
       "      <td>1</td>\n",
       "    </tr>\n",
       "  </tbody>\n",
       "</table>\n",
       "</div>"
      ],
      "text/plain": [
       "  Gender     Height      Weight  gender\n",
       "0   Male  73.847017  241.893563       1\n",
       "1   Male  68.781904  162.310473       1\n",
       "2   Male  74.110105  212.740856       1\n",
       "3   Male  71.730978  220.042470       1\n",
       "4   Male  69.881796  206.349801       1"
      ]
     },
     "execution_count": 125,
     "metadata": {},
     "output_type": "execute_result"
    }
   ],
   "source": [
    "dflog.head()"
   ]
  },
  {
   "cell_type": "code",
   "execution_count": 133,
   "metadata": {
    "collapsed": false
   },
   "outputs": [
    {
     "data": {
      "text/plain": [
       "1    5000\n",
       "0    5000\n",
       "Name: gender, dtype: int64"
      ]
     },
     "execution_count": 133,
     "metadata": {},
     "output_type": "execute_result"
    }
   ],
   "source": [
    "dflog['gender'].value_counts()"
   ]
  },
  {
   "cell_type": "code",
   "execution_count": 134,
   "metadata": {
    "collapsed": false
   },
   "outputs": [],
   "source": [
    "## train test splitting\n",
    "\n",
    "from sklearn.model_selection import train_test_split\n",
    "\n",
    "# Split the data into a training and test set.\n",
    "X_train, X_test, y_train, y_test = train_test_split(dflog[['Height','Weight']].values,dflog['gender'].values,random_state=5)"
   ]
  },
  {
   "cell_type": "code",
   "execution_count": 137,
   "metadata": {
    "collapsed": false
   },
   "outputs": [
    {
     "name": "stdout",
     "output_type": "stream",
     "text": [
      "(7500, 2)\n",
      "(2500, 2)\n",
      "(1, 7500)\n",
      "(2500,)\n"
     ]
    }
   ],
   "source": [
    "## reshape the dataset inorder to use my own algorithm\n",
    "\n",
    "y_train = y_train.reshape((1,y_train.shape[0]))\n",
    "\n",
    "print (X_train.shape)\n",
    "print (X_test.shape)\n",
    "print (y_train.shape)\n",
    "print (y_test.shape)"
   ]
  },
  {
   "cell_type": "code",
   "execution_count": 186,
   "metadata": {
    "collapsed": false
   },
   "outputs": [
    {
     "ename": "AssertionError",
     "evalue": "",
     "output_type": "error",
     "traceback": [
      "\u001b[0;31m---------------------------------------------------------------------------\u001b[0m",
      "\u001b[0;31mAssertionError\u001b[0m                            Traceback (most recent call last)",
      "\u001b[0;32m<ipython-input-186-147a0b7f761e>\u001b[0m in \u001b[0;36m<module>\u001b[0;34m()\u001b[0m\n\u001b[1;32m      7\u001b[0m \u001b[0mres\u001b[0m \u001b[1;33m=\u001b[0m \u001b[0mres\u001b[0m\u001b[1;33m.\u001b[0m\u001b[0mreshape\u001b[0m\u001b[1;33m(\u001b[0m\u001b[1;33m(\u001b[0m\u001b[1;36m1\u001b[0m\u001b[1;33m,\u001b[0m\u001b[0mres\u001b[0m\u001b[1;33m.\u001b[0m\u001b[0mshape\u001b[0m\u001b[1;33m[\u001b[0m\u001b[1;36m0\u001b[0m\u001b[1;33m]\u001b[0m\u001b[1;33m)\u001b[0m\u001b[1;33m)\u001b[0m\u001b[1;33m\u001b[0m\u001b[0m\n\u001b[1;32m      8\u001b[0m \u001b[1;33m\u001b[0m\u001b[0m\n\u001b[0;32m----> 9\u001b[0;31m \u001b[0mmodel_accuracy\u001b[0m\u001b[1;33m(\u001b[0m\u001b[0my_train\u001b[0m\u001b[1;33m,\u001b[0m\u001b[0mres\u001b[0m\u001b[1;33m)\u001b[0m\u001b[1;33m\u001b[0m\u001b[0m\n\u001b[0m",
      "\u001b[0;32m<ipython-input-184-40d2f72ed783>\u001b[0m in \u001b[0;36mmodel_accuracy\u001b[0;34m(test_y, result)\u001b[0m\n\u001b[1;32m    141\u001b[0m \u001b[1;32mdef\u001b[0m \u001b[0mmodel_accuracy\u001b[0m\u001b[1;33m(\u001b[0m\u001b[0mtest_y\u001b[0m\u001b[1;33m,\u001b[0m \u001b[0mresult\u001b[0m\u001b[1;33m)\u001b[0m\u001b[1;33m:\u001b[0m\u001b[1;33m\u001b[0m\u001b[0m\n\u001b[1;32m    142\u001b[0m \u001b[1;33m\u001b[0m\u001b[0m\n\u001b[0;32m--> 143\u001b[0;31m     \u001b[1;32massert\u001b[0m \u001b[0mtest_y\u001b[0m\u001b[1;33m.\u001b[0m\u001b[0mshape\u001b[0m \u001b[1;33m==\u001b[0m \u001b[0mresult\u001b[0m\u001b[1;33m.\u001b[0m\u001b[0mshape\u001b[0m\u001b[1;33m\u001b[0m\u001b[0m\n\u001b[0m\u001b[1;32m    144\u001b[0m \u001b[1;33m\u001b[0m\u001b[0m\n\u001b[1;32m    145\u001b[0m     \u001b[0mcorrect\u001b[0m \u001b[1;33m=\u001b[0m \u001b[0mlen\u001b[0m\u001b[1;33m(\u001b[0m\u001b[0mtest_y\u001b[0m\u001b[1;33m[\u001b[0m\u001b[0mtest_y\u001b[0m \u001b[1;33m==\u001b[0m \u001b[0mresult\u001b[0m\u001b[1;33m]\u001b[0m\u001b[1;33m)\u001b[0m\u001b[1;33m\u001b[0m\u001b[0m\n",
      "\u001b[0;31mAssertionError\u001b[0m: "
     ]
    }
   ],
   "source": [
    "## Train the model:\n",
    "\n",
    "prior_p = np.array([[0.5,0.5]])\n",
    "\n",
    "res = Predict(X_train,y_train,X_test,prior_p)\n",
    "\n",
    "res = res.reshape((1,res.shape[0]))\n",
    "\n",
    "model_accuracy(y_train,res)"
   ]
  },
  {
   "cell_type": "code",
   "execution_count": null,
   "metadata": {
    "collapsed": false
   },
   "outputs": [],
   "source": []
  },
  {
   "cell_type": "code",
   "execution_count": 163,
   "metadata": {
    "collapsed": false
   },
   "outputs": [
    {
     "data": {
      "text/plain": [
       "array([[  63.69821586,  135.85964334],\n",
       "       [  69.0706496 ,  187.31820631]])"
      ]
     },
     "execution_count": 163,
     "metadata": {},
     "output_type": "execute_result"
    }
   ],
   "source": [
    "mean_matrix = Mean_array(X_train,y_train)\n",
    "var_matrix = Var_array(X_train,y_train)\n",
    "\n",
    "mean_matrix"
   ]
  },
  {
   "cell_type": "code",
   "execution_count": 168,
   "metadata": {
    "collapsed": false
   },
   "outputs": [
    {
     "data": {
      "text/plain": [
       "0"
      ]
     },
     "execution_count": 168,
     "metadata": {},
     "output_type": "execute_result"
    }
   ],
   "source": [
    "\n",
    "\n",
    "res = Cal_once(X_train[1],mean_matrix,var_matrix,y_train,prior_p)\n",
    "res = find_class(res)\n",
    "res"
   ]
  },
  {
   "cell_type": "code",
   "execution_count": 167,
   "metadata": {
    "collapsed": false
   },
   "outputs": [
    {
     "data": {
      "text/plain": [
       "array([  64.65940371,  141.89306475])"
      ]
     },
     "execution_count": 167,
     "metadata": {},
     "output_type": "execute_result"
    }
   ],
   "source": [
    "X_train[1]"
   ]
  },
  {
   "cell_type": "code",
   "execution_count": 169,
   "metadata": {
    "collapsed": false
   },
   "outputs": [
    {
     "data": {
      "text/plain": [
       "array([[  66.67436003,  132.00428008],\n",
       "       [  64.65940371,  141.89306475],\n",
       "       [  61.61019345,  112.07761532],\n",
       "       ..., \n",
       "       [  70.62675272,  196.41598318],\n",
       "       [  71.41075432,  189.20480254],\n",
       "       [  69.24164203,  192.10003602]])"
      ]
     },
     "execution_count": 169,
     "metadata": {},
     "output_type": "execute_result"
    }
   ],
   "source": [
    "X_train"
   ]
  },
  {
   "cell_type": "code",
   "execution_count": 170,
   "metadata": {
    "collapsed": false
   },
   "outputs": [
    {
     "data": {
      "text/plain": [
       "array([[0, 0, 0, ..., 1, 1, 1]], dtype=int64)"
      ]
     },
     "execution_count": 170,
     "metadata": {},
     "output_type": "execute_result"
    }
   ],
   "source": [
    "y_train"
   ]
  },
  {
   "cell_type": "code",
   "execution_count": 190,
   "metadata": {
    "collapsed": false
   },
   "outputs": [
    {
     "name": "stdout",
     "output_type": "stream",
     "text": [
      "6632\n"
     ]
    }
   ],
   "source": [
    "s=0\n",
    "for i in range(7500):\n",
    "    if find_class(Cal_once(X_train[i],mean_matrix,var_matrix,y_train,prior_p))==y_train[0,i]:\n",
    "        s=s+1\n",
    "\n",
    "print (s)"
   ]
  },
  {
   "cell_type": "code",
   "execution_count": 191,
   "metadata": {
    "collapsed": false
   },
   "outputs": [
    {
     "data": {
      "text/plain": [
       "0.8842666666666666"
      ]
     },
     "execution_count": 191,
     "metadata": {},
     "output_type": "execute_result"
    }
   ],
   "source": [
    "6632.0/7500"
   ]
  },
  {
   "cell_type": "code",
   "execution_count": null,
   "metadata": {
    "collapsed": true
   },
   "outputs": [],
   "source": []
  }
 ],
 "metadata": {
  "kernelspec": {
   "display_name": "Python 3",
   "language": "python",
   "name": "python3"
  },
  "language_info": {
   "codemirror_mode": {
    "name": "ipython",
    "version": 3
   },
   "file_extension": ".py",
   "mimetype": "text/x-python",
   "name": "python",
   "nbconvert_exporter": "python",
   "pygments_lexer": "ipython3",
   "version": "3.6.0"
  }
 },
 "nbformat": 4,
 "nbformat_minor": 2
}
