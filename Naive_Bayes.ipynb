{
 "cells": [
  {
   "cell_type": "markdown",
   "metadata": {},
   "source": [
    "# Naive Bayes Classifier"
   ]
  },
  {
   "cell_type": "markdown",
   "metadata": {},
   "source": [
    "## 1. Naive Bayes algorithm"
   ]
  },
  {
   "cell_type": "markdown",
   "metadata": {},
   "source": [
    "This ipython notebook is used to implement naive bayes algorithms, which is easy to understand and for some problem it has a fair good accuracy. "
   ]
  },
  {
   "cell_type": "markdown",
   "metadata": {},
   "source": [
    "**The Question we are going to answer **:\n",
    "\n",
    "This is the simple example I get from wikipedia, which is used to understand how Naive Bayes algorithm works in this case:\n",
    "\n",
    "### Problem: classify whether a given person is a male or a female based on the measured features. The features include height, weight, and foot size."
   ]
  },
  {
   "cell_type": "code",
   "execution_count": 4,
   "metadata": {
    "collapsed": true
   },
   "outputs": [],
   "source": [
    "## Import the packages\n",
    "\n",
    "import numpy as np\n",
    "import matplotlib as plt\n",
    "import sklearn as sk\n",
    "\n",
    "%matplotlib notebook"
   ]
  },
  {
   "cell_type": "code",
   "execution_count": 5,
   "metadata": {
    "collapsed": true
   },
   "outputs": [],
   "source": [
    "## dataset columns: [height(feet), weight(lbs), foot size(inches), gender(male:1, female:0)]\n",
    "\n",
    "\n",
    "dataset = np.array([[6,180,12,1],[5.92,190,11,1],[5.58,170,12,1],[5.92,165,10,1],[5,100,6,0],[5.5,150,8,0],[5.42,130,7,0],[5.75,150,9,0]],dtype=float)"
   ]
  },
  {
   "cell_type": "code",
   "execution_count": 6,
   "metadata": {
    "collapsed": false
   },
   "outputs": [
    {
     "data": {
      "text/plain": [
       "array([[   6.  ,  180.  ,   12.  ,    1.  ],\n",
       "       [   5.92,  190.  ,   11.  ,    1.  ],\n",
       "       [   5.58,  170.  ,   12.  ,    1.  ],\n",
       "       [   5.92,  165.  ,   10.  ,    1.  ],\n",
       "       [   5.  ,  100.  ,    6.  ,    0.  ],\n",
       "       [   5.5 ,  150.  ,    8.  ,    0.  ],\n",
       "       [   5.42,  130.  ,    7.  ,    0.  ],\n",
       "       [   5.75,  150.  ,    9.  ,    0.  ]])"
      ]
     },
     "execution_count": 6,
     "metadata": {},
     "output_type": "execute_result"
    }
   ],
   "source": [
    "dataset"
   ]
  },
  {
   "cell_type": "code",
   "execution_count": 7,
   "metadata": {
    "collapsed": false
   },
   "outputs": [],
   "source": [
    "train_x = dataset[:,:-1]\n",
    "\n",
    "target = dataset[:,-1].reshape((1,dataset.shape[0]))"
   ]
  },
  {
   "cell_type": "code",
   "execution_count": null,
   "metadata": {
    "collapsed": false
   },
   "outputs": [],
   "source": []
  },
  {
   "cell_type": "code",
   "execution_count": 8,
   "metadata": {
    "collapsed": false
   },
   "outputs": [
    {
     "data": {
      "text/plain": [
       "array([[ 1.,  1.,  1.,  1.,  0.,  0.,  0.,  0.]])"
      ]
     },
     "execution_count": 8,
     "metadata": {},
     "output_type": "execute_result"
    }
   ],
   "source": [
    "target"
   ]
  },
  {
   "cell_type": "markdown",
   "metadata": {},
   "source": [
    "## Implement our Bayes algorithm"
   ]
  },
  {
   "cell_type": "code",
   "execution_count": 75,
   "metadata": {
    "collapsed": true
   },
   "outputs": [],
   "source": [
    "## define Gaussian distribution function\n",
    "\n",
    "def Gauss(x, mean, var):\n",
    "    \"\"\"\n",
    "    This is the function to calculate the probability distribution under the assumption that the data behaves as normla distribution\n",
    "    \"\"\"\n",
    "    coef = 1/np.sqrt(2*np.pi*var)\n",
    "    expo = np.exp(-(x-mean)**2/(2*var))\n",
    "    return coef*expo\n",
    "\n",
    "\n",
    "def Mean_array(train_X,target):\n",
    "    \"\"\"\n",
    "    This function calculate the mean value for each feature (colume of dataset),\n",
    "    this function is actually build the training model\n",
    "    \n",
    "    input: 1.training array with size m*n\n",
    "           m: the number of observations\n",
    "           n: the number of features\n",
    "           \n",
    "           2.target array with size 1*m\n",
    "           m: the number of observations\n",
    "    \n",
    "    return: numpy array of mean values. with size k*n\n",
    "            n: the number of features\n",
    "            k: the number of class\n",
    "    \"\"\"\n",
    "    \n",
    "    k = len(np.unique(target))\n",
    "    \n",
    "    mean_array = np.array([[train_X[(target==k)[0]][:,i].mean() for i in range(train_X.shape[1])] for k in np.unique(target)])\n",
    "    \n",
    "    assert mean_array.shape==(k,train_X.shape[1])\n",
    "    \n",
    "    return mean_array\n",
    "\n",
    "\n",
    "def Var_array(train_X,target):\n",
    "    \"\"\"\n",
    "    This function calculate the variance value for each feature (colume of dataset),\n",
    "    this function is actually build the training model\n",
    "    \n",
    "    input: 1.training array with size m*n\n",
    "           m: the number of observations\n",
    "           n: the number of features\n",
    "           \n",
    "           2.target array with size 1*m\n",
    "           m: the number of observations\n",
    "    \n",
    "    return: numpy array of variance values. with size k*n\n",
    "            n: the number of features\n",
    "            k: the number of class\n",
    "    \"\"\"\n",
    "    \n",
    "    k = len(np.unique(target))\n",
    "    \n",
    "    var_array = np.array([[train_X[(target==k)[0]][:,i].var(ddof=1) for i in range(train_X.shape[1])] for k in np.unique(target)])\n",
    "    \n",
    "    assert var_array.shape==(k,train_X.shape[1])\n",
    "    \n",
    "    return var_array\n",
    "\n",
    "\n",
    "def find_class(A):\n",
    "    \"\"\"\n",
    "    This is a help function that return the index \n",
    "    \"\"\"\n",
    "    vmax=-1; midx=-1\n",
    "    for i in range(len(A)):\n",
    "        if (A[i]>vmax):\n",
    "            vmax=A[i]\n",
    "            midx=i\n",
    "    return midx\n",
    "\n",
    "\n",
    "def Cal_once(in_array,mean_matrix,var_matrix,target,prior_p):\n",
    "    \"\"\"\n",
    "    This is the help function to calculate only one test case.\n",
    "    \n",
    "    input: 1. in_array with size (num_of_features,)\n",
    "           2. mean_matrix with size (num_of_class, num_of_features)\n",
    "           3. var_matrix with size (num_of_class, num_of_features)\n",
    "           4. target with size (1, num_of_classes)\n",
    "           5. prior_p with size (1, num_of_classes)\n",
    "           \n",
    "    return: result array with size (num_of_classes, )\n",
    "    \"\"\"\n",
    "    \n",
    "    num_of_features = in_array.shape[0]\n",
    "    num_of_class = len(np.unique(target))\n",
    "    \n",
    "    \n",
    "    likelyhood = np.array([[Gauss(in_array[i],mean_matrix[c,i],var_matrix[c,i]) for i in range(num_of_features)] for c in range(num_of_class)]).prod(axis=1)\n",
    "    result = np.array([ prior_p[0][i]*likelyhood[i] for i in range(num_of_class)])\n",
    "    \n",
    "    return result\n",
    "\n",
    "\n",
    "def Predict(train_X,target,test_x,prior_p):\n",
    "    \"\"\"\n",
    "    This function calculate the prediction value of the test dataset,\n",
    "    this function is used to make a prediction\n",
    "    \n",
    "    input: 1.training array with size m*n\n",
    "           m: the number of observations\n",
    "           n: the number of features\n",
    "           \n",
    "           2. target array with size 1*m\n",
    "           m: the number of observations\n",
    "           \n",
    "           3. test set with size num_of_test*n\n",
    "           num_of_test: the number of test\n",
    "           n: the number of features\n",
    "           \n",
    "           4. prior_p with size 1*num_of_class, this is the prior probability of Bayes theorem.\n",
    "           num_of_class: the number of classes\n",
    "           \n",
    "    return: numpy array of test values, which contains the class label. with size (num_of_test,)\n",
    "            num_of_test: the number of test\n",
    "    \"\"\"\n",
    "    \n",
    "    num_of_observations = train_X.shape[0]\n",
    "    num_of_features = train_X.shape[1]\n",
    "    num_of_class = len(np.unique(target))\n",
    "    \n",
    "    mean_matrix = Mean_array(train_X,target)\n",
    "    var_matrix = Var_array(train_X,target)\n",
    "    \n",
    "    result = np.array([Cal_one(test_x[i,:],mean_matrix,var_matrix,target,prior_p) for i in range(num_of_class)])\n",
    "    \n",
    "    \n",
    "    return result\n",
    "\n"
   ]
  },
  {
   "cell_type": "code",
   "execution_count": 79,
   "metadata": {
    "collapsed": false
   },
   "outputs": [
    {
     "name": "stdout",
     "output_type": "stream",
     "text": [
      "[  5.37790918e-04   6.19707184e-09]\n",
      "0\n",
      "The possible gender of the test data is: male\n"
     ]
    }
   ],
   "source": [
    "## Test:\n",
    "\n",
    "gender = {0:'male',1:'female'}\n",
    "\n",
    "mean_matrix = Mean_array(train_x,target)\n",
    "var_matrix  = Var_array(train_x, target)\n",
    "\n",
    "prior_p = np.array([[0.5,0.5]])\n",
    "\n",
    "test = np.array([6,130,8])\n",
    "\n",
    "gen = find_class(Cal_once(test,mean_matrix,var_matrix,target,prior_p))\n",
    "\n",
    "print (Cal_once(test,mean_matrix,var_matrix,target,prior_p))\n",
    "print (find_class(Cal_once(test,mean_matrix,var_matrix,target,prior_p)))\n",
    "print ('The possible gender of the test data is: '+gender[gen])"
   ]
  },
  {
   "cell_type": "code",
   "execution_count": null,
   "metadata": {
    "collapsed": false
   },
   "outputs": [],
   "source": []
  },
  {
   "cell_type": "code",
   "execution_count": null,
   "metadata": {
    "collapsed": false
   },
   "outputs": [],
   "source": []
  },
  {
   "cell_type": "code",
   "execution_count": null,
   "metadata": {
    "collapsed": false
   },
   "outputs": [],
   "source": []
  },
  {
   "cell_type": "code",
   "execution_count": null,
   "metadata": {
    "collapsed": false
   },
   "outputs": [],
   "source": []
  },
  {
   "cell_type": "code",
   "execution_count": null,
   "metadata": {
    "collapsed": false
   },
   "outputs": [],
   "source": []
  },
  {
   "cell_type": "code",
   "execution_count": null,
   "metadata": {
    "collapsed": false
   },
   "outputs": [],
   "source": []
  },
  {
   "cell_type": "code",
   "execution_count": null,
   "metadata": {
    "collapsed": false
   },
   "outputs": [],
   "source": []
  },
  {
   "cell_type": "code",
   "execution_count": null,
   "metadata": {
    "collapsed": false
   },
   "outputs": [],
   "source": []
  },
  {
   "cell_type": "code",
   "execution_count": null,
   "metadata": {
    "collapsed": true
   },
   "outputs": [],
   "source": []
  },
  {
   "cell_type": "code",
   "execution_count": null,
   "metadata": {
    "collapsed": false
   },
   "outputs": [],
   "source": []
  },
  {
   "cell_type": "code",
   "execution_count": null,
   "metadata": {
    "collapsed": true
   },
   "outputs": [],
   "source": []
  }
 ],
 "metadata": {
  "kernelspec": {
   "display_name": "Python 3",
   "language": "python",
   "name": "python3"
  },
  "language_info": {
   "codemirror_mode": {
    "name": "ipython",
    "version": 3
   },
   "file_extension": ".py",
   "mimetype": "text/x-python",
   "name": "python",
   "nbconvert_exporter": "python",
   "pygments_lexer": "ipython3",
   "version": "3.6.0"
  }
 },
 "nbformat": 4,
 "nbformat_minor": 2
}
